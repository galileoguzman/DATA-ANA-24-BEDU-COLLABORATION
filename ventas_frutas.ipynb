{
 "cells": [
  {
   "cell_type": "code",
   "execution_count": 3,
   "id": "4ba4ccce-fc3a-4b87-a466-ca6bb69f3859",
   "metadata": {},
   "outputs": [],
   "source": [
    "import pandas as pd\n",
    "import matplotlib.pyplot as plt"
   ]
  },
  {
   "cell_type": "code",
   "execution_count": 5,
   "id": "622e9e30-7a12-4d8b-88b4-b00357727ca9",
   "metadata": {},
   "outputs": [],
   "source": [
    "data = pd.read_csv(\"tmp/ventas_frutas.csv\")"
   ]
  },
  {
   "cell_type": "code",
   "execution_count": 7,
   "id": "ff8bc249-bb2c-4ac7-9901-61227e714786",
   "metadata": {
    "scrolled": true
   },
   "outputs": [
    {
     "data": {
      "text/html": [
       "<div>\n",
       "<style scoped>\n",
       "    .dataframe tbody tr th:only-of-type {\n",
       "        vertical-align: middle;\n",
       "    }\n",
       "\n",
       "    .dataframe tbody tr th {\n",
       "        vertical-align: top;\n",
       "    }\n",
       "\n",
       "    .dataframe thead th {\n",
       "        text-align: right;\n",
       "    }\n",
       "</style>\n",
       "<table border=\"1\" class=\"dataframe\">\n",
       "  <thead>\n",
       "    <tr style=\"text-align: right;\">\n",
       "      <th></th>\n",
       "      <th>Fecha</th>\n",
       "      <th>Fruta</th>\n",
       "      <th>Cantidad_Vendida</th>\n",
       "      <th>Precio_Unitario</th>\n",
       "      <th>Costo_Unitario</th>\n",
       "    </tr>\n",
       "  </thead>\n",
       "  <tbody>\n",
       "    <tr>\n",
       "      <th>0</th>\n",
       "      <td>2024-07-19</td>\n",
       "      <td>Naranjas</td>\n",
       "      <td>77</td>\n",
       "      <td>0.5</td>\n",
       "      <td>0.50</td>\n",
       "    </tr>\n",
       "    <tr>\n",
       "      <th>1</th>\n",
       "      <td>2024-07-20</td>\n",
       "      <td>Naranjas</td>\n",
       "      <td>41</td>\n",
       "      <td>0.4</td>\n",
       "      <td>0.20</td>\n",
       "    </tr>\n",
       "    <tr>\n",
       "      <th>2</th>\n",
       "      <td>2024-07-20</td>\n",
       "      <td>Bananas</td>\n",
       "      <td>69</td>\n",
       "      <td>0.8</td>\n",
       "      <td>0.15</td>\n",
       "    </tr>\n",
       "    <tr>\n",
       "      <th>3</th>\n",
       "      <td>2024-07-20</td>\n",
       "      <td>Naranjas</td>\n",
       "      <td>33</td>\n",
       "      <td>0.3</td>\n",
       "      <td>0.15</td>\n",
       "    </tr>\n",
       "    <tr>\n",
       "      <th>4</th>\n",
       "      <td>2024-07-20</td>\n",
       "      <td>Manzanas</td>\n",
       "      <td>28</td>\n",
       "      <td>1.0</td>\n",
       "      <td>0.60</td>\n",
       "    </tr>\n",
       "  </tbody>\n",
       "</table>\n",
       "</div>"
      ],
      "text/plain": [
       "        Fecha     Fruta  Cantidad_Vendida  Precio_Unitario  Costo_Unitario\n",
       "0  2024-07-19  Naranjas                77              0.5            0.50\n",
       "1  2024-07-20  Naranjas                41              0.4            0.20\n",
       "2  2024-07-20   Bananas                69              0.8            0.15\n",
       "3  2024-07-20  Naranjas                33              0.3            0.15\n",
       "4  2024-07-20  Manzanas                28              1.0            0.60"
      ]
     },
     "execution_count": 7,
     "metadata": {},
     "output_type": "execute_result"
    }
   ],
   "source": [
    "data.head()"
   ]
  }
 ],
 "metadata": {
  "kernelspec": {
   "display_name": "Python 3 (ipykernel)",
   "language": "python",
   "name": "python3"
  },
  "language_info": {
   "codemirror_mode": {
    "name": "ipython",
    "version": 3
   },
   "file_extension": ".py",
   "mimetype": "text/x-python",
   "name": "python",
   "nbconvert_exporter": "python",
   "pygments_lexer": "ipython3",
   "version": "3.12.4"
  }
 },
 "nbformat": 4,
 "nbformat_minor": 5
}
